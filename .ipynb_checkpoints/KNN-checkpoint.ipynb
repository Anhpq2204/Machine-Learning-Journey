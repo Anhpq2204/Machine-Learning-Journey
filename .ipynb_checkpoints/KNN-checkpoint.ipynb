{
 "cells": [
  {
   "cell_type": "markdown",
   "id": "8c692e25-0a54-4dd9-8281-264c9ee99f6f",
   "metadata": {},
   "source": [
    "KNN model"
   ]
  },
  {
   "cell_type": "code",
   "execution_count": 47,
   "id": "31fc2b48-5337-4744-9533-8fdbd9637931",
   "metadata": {},
   "outputs": [
    {
     "name": "stdout",
     "output_type": "stream",
     "text": [
      "0.9666666666666667\n"
     ]
    }
   ],
   "source": [
    "#import necessary librabry\n",
    "import numpy as np\n",
    "from collections import Counter\n",
    "#load the dataset\n",
    "from sklearn import datasets\n",
    "from sklearn.model_selection import train_test_split\n",
    "iris=datasets.load_iris()\n",
    "X,y=iris.data,iris.target\n",
    "X_train,X_test,y_train,y_test=train_test_split(X,y,test_size=0.2,random_state=3)\n",
    "\n",
    "# distance between two poin using L2 distance\n",
    "def distance(x1,x2):\n",
    "    return np.sqrt(sum((x1-x2)**2))\n",
    "# print(distance(np.array([3,5]),np.array([2,4])))\n",
    "#class knn(KNN) is used for inherence\n",
    "class knn:\n",
    "    #initial the model\n",
    "    def __init__(self,k=3):\n",
    "        self.k=k\n",
    "    #fit the training set\n",
    "    def fit(self,X,y):\n",
    "        self.X_train=X\n",
    "        self.y_train=y\n",
    "    #predict \n",
    "    def predict(self,X):\n",
    "        return np.array([self._predict(x) for x in X])\n",
    "    def _predict(self,x):\n",
    "        #compute the distance\n",
    "        dis=[distance(x,t) for t in self.X_train]\n",
    "        #choose k-nearest one\n",
    "        k_indices=np.argsort(dis)[:self.k]\n",
    "        k_labels=[self.y_train[i] for i in k_indices]\n",
    "        #choose majority vote\n",
    "        most_common=Counter(k_labels).most_common(1)[0][0] # ->tuple -> element\n",
    "        return most_common\n",
    "    \n",
    "clf=knn(k=3)\n",
    "clf.fit(X_train,y_train)\n",
    "predictions=clf.predict(X_test)\n",
    "#evaluate using accuracy\n",
    "acc=np.sum(predictions==y_test)/len(y_test)\n",
    "print(acc)\n"
   ]
  },
  {
   "cell_type": "code",
   "execution_count": null,
   "id": "07bc01fe-e7db-493c-b133-ceaa9b1b66b9",
   "metadata": {},
   "outputs": [],
   "source": []
  }
 ],
 "metadata": {
  "kernelspec": {
   "display_name": "Python 3 (ipykernel)",
   "language": "python",
   "name": "python3"
  },
  "language_info": {
   "codemirror_mode": {
    "name": "ipython",
    "version": 3
   },
   "file_extension": ".py",
   "mimetype": "text/x-python",
   "name": "python",
   "nbconvert_exporter": "python",
   "pygments_lexer": "ipython3",
   "version": "3.12.7"
  }
 },
 "nbformat": 4,
 "nbformat_minor": 5
}
